{
  "nbformat": 4,
  "nbformat_minor": 0,
  "metadata": {
    "colab": {
      "name": "Tensors_Torch.ipynb",
      "version": "0.3.2",
      "views": {},
      "default_view": {},
      "provenance": [],
      "collapsed_sections": []
    },
    "kernelspec": {
      "name": "python3",
      "display_name": "Python 3"
    },
    "accelerator": "GPU"
  },
  "cells": [
    {
      "metadata": {
        "id": "lOan6bs55sQp",
        "colab_type": "text"
      },
      "cell_type": "markdown",
      "source": [
        "## **Welcome to Pytorch tutorial for basic Tensor Operations---------------**"
      ]
    },
    {
      "metadata": {
        "id": "Kpkvez476BQf",
        "colab_type": "text"
      },
      "cell_type": "markdown",
      "source": [
        "Pytorch mainly deals with \"**Tensors**\" and its associated operations. The best part is you can use both **CPU** as well as **GPU** for all ur Tensors and model optimisations. Pytorch gives you enormous flexibility and powerful GPU support for all it operations.  \n",
        "<br>\n",
        "**Note** : Check the documentation (https://pytorch.org/) for the CUDA compatibility of your **GPU** before getting started.\n",
        "<br><br>\n",
        "Lets get started ----------------------------------------------------------------------------"
      ]
    },
    {
      "metadata": {
        "id": "Yb3LrxhjHTvt",
        "colab_type": "text"
      },
      "cell_type": "markdown",
      "source": [
        "# **1.** Installing Pytorch ver 0.4.1"
      ]
    },
    {
      "metadata": {
        "id": "av3jnDcRHe4v",
        "colab_type": "code",
        "colab": {
          "autoexec": {
            "startup": false,
            "wait_interval": 0
          },
          "base_uri": "https://localhost:8080/",
          "height": 139
        },
        "outputId": "b9527be9-6f58-4e02-b264-aa4f5443b67f",
        "executionInfo": {
          "status": "ok",
          "timestamp": 1532869143056,
          "user_tz": -330,
          "elapsed": 42832,
          "user": {
            "displayName": "Divyam Srivastava",
            "photoUrl": "//lh3.googleusercontent.com/-WZcfnp5pNtk/AAAAAAAAAAI/AAAAAAAAAXo/yGhBvt-FNho/s50-c-k-no/photo.jpg",
            "userId": "112121959970026521392"
          }
        }
      },
      "cell_type": "code",
      "source": [
        "!pip install torch"
      ],
      "execution_count": 1,
      "outputs": [
        {
          "output_type": "stream",
          "text": [
            "Collecting torch\n",
            "\u001b[?25l  Downloading https://files.pythonhosted.org/packages/49/0e/e382bcf1a6ae8225f50b99cc26effa2d4cc6d66975ccf3fa9590efcbedce/torch-0.4.1-cp36-cp36m-manylinux1_x86_64.whl (519.5MB)\n",
            "\u001b[K    100% |████████████████████████████████| 519.5MB 28kB/s \n",
            "tcmalloc: large alloc 1073750016 bytes == 0x59cf6000 @  0x7f8b6e6c91c4 0x46d6a4 0x5fcbcc 0x4c494d 0x54f3c4 0x553aaf 0x54e4c8 0x54f4f6 0x553aaf 0x54efc1 0x54f24d 0x553aaf 0x54efc1 0x54f24d 0x553aaf 0x54efc1 0x54f24d 0x551ee0 0x54e4c8 0x54f4f6 0x553aaf 0x54efc1 0x54f24d 0x551ee0 0x54efc1 0x54f24d 0x551ee0 0x54e4c8 0x54f4f6 0x553aaf 0x54e4c8\n",
            "\u001b[?25hInstalling collected packages: torch\n",
            "Successfully installed torch-0.4.1\n"
          ],
          "name": "stdout"
        }
      ]
    },
    {
      "metadata": {
        "id": "kq-pQmuSH1Ux",
        "colab_type": "text"
      },
      "cell_type": "markdown",
      "source": [
        "# **2.** Import **torch**. \n",
        "<br>\n",
        "All the Tensor operations will be done using **torch.Tensor** module. \n",
        "<br>\n",
        "Pytorch gives you power to dynamically switch between traditional numpy ndarrays and torch based Tensors. \n",
        "<br>\n",
        "<br>\n",
        "** -- ** A 1-d Tensor is a vector \n",
        "<br>\n",
        "** -- ** A 2-d Tensor is a matrix \n",
        "<br>\n",
        "** -- ** A 3-d Tensor is a **vector** of identical matrices \n",
        "<br>\n",
        "** -- ** A 4-d Tensor is a **matrix** of identical matrices \n",
        "<br>"
      ]
    },
    {
      "metadata": {
        "id": "35JGbuvPJWp1",
        "colab_type": "code",
        "colab": {
          "autoexec": {
            "startup": false,
            "wait_interval": 0
          }
        }
      },
      "cell_type": "code",
      "source": [
        "import torch as t"
      ],
      "execution_count": 0,
      "outputs": []
    },
    {
      "metadata": {
        "id": "ctKzLB8qJ9-r",
        "colab_type": "text"
      },
      "cell_type": "markdown",
      "source": [
        "# **3.** Creating your first **tensor**."
      ]
    },
    {
      "metadata": {
        "id": "HF5j9-LEKOHC",
        "colab_type": "code",
        "colab": {
          "autoexec": {
            "startup": false,
            "wait_interval": 0
          },
          "base_uri": "https://localhost:8080/",
          "height": 34
        },
        "outputId": "7734f6e1-cfd2-4ec8-b7b2-82f2ac67bac1",
        "executionInfo": {
          "status": "ok",
          "timestamp": 1532869831093,
          "user_tz": -330,
          "elapsed": 2659,
          "user": {
            "displayName": "Divyam Srivastava",
            "photoUrl": "//lh3.googleusercontent.com/-WZcfnp5pNtk/AAAAAAAAAAI/AAAAAAAAAXo/yGhBvt-FNho/s50-c-k-no/photo.jpg",
            "userId": "112121959970026521392"
          }
        }
      },
      "cell_type": "code",
      "source": [
        "x = t.Tensor(5)\n",
        "x.size()"
      ],
      "execution_count": 3,
      "outputs": [
        {
          "output_type": "execute_result",
          "data": {
            "text/plain": [
              "torch.Size([5])"
            ]
          },
          "metadata": {
            "tags": []
          },
          "execution_count": 3
        }
      ]
    },
    {
      "metadata": {
        "id": "YNUfm6XMKV7W",
        "colab_type": "code",
        "colab": {
          "autoexec": {
            "startup": false,
            "wait_interval": 0
          },
          "base_uri": "https://localhost:8080/",
          "height": 34
        },
        "outputId": "76036194-421b-42d9-fd38-f8b235ec49f6",
        "executionInfo": {
          "status": "ok",
          "timestamp": 1532869849762,
          "user_tz": -330,
          "elapsed": 1694,
          "user": {
            "displayName": "Divyam Srivastava",
            "photoUrl": "//lh3.googleusercontent.com/-WZcfnp5pNtk/AAAAAAAAAAI/AAAAAAAAAXo/yGhBvt-FNho/s50-c-k-no/photo.jpg",
            "userId": "112121959970026521392"
          }
        }
      },
      "cell_type": "code",
      "source": [
        "y = t.Tensor(4,5)\n",
        "y.size()"
      ],
      "execution_count": 4,
      "outputs": [
        {
          "output_type": "execute_result",
          "data": {
            "text/plain": [
              "torch.Size([4, 5])"
            ]
          },
          "metadata": {
            "tags": []
          },
          "execution_count": 4
        }
      ]
    },
    {
      "metadata": {
        "id": "ff82iJxzKn1-",
        "colab_type": "text"
      },
      "cell_type": "markdown",
      "source": [
        "**Note** : **Tensor.fill_()** is in-place function for fill() command."
      ]
    },
    {
      "metadata": {
        "id": "FWsBGxo9KauX",
        "colab_type": "code",
        "colab": {
          "autoexec": {
            "startup": false,
            "wait_interval": 0
          },
          "base_uri": "https://localhost:8080/",
          "height": 34
        },
        "outputId": "6dbf448a-0473-45e3-c7c8-19483d761f4e",
        "executionInfo": {
          "status": "ok",
          "timestamp": 1532869883617,
          "user_tz": -330,
          "elapsed": 1324,
          "user": {
            "displayName": "Divyam Srivastava",
            "photoUrl": "//lh3.googleusercontent.com/-WZcfnp5pNtk/AAAAAAAAAAI/AAAAAAAAAXo/yGhBvt-FNho/s50-c-k-no/photo.jpg",
            "userId": "112121959970026521392"
          }
        }
      },
      "cell_type": "code",
      "source": [
        "x.fill_(5)"
      ],
      "execution_count": 5,
      "outputs": [
        {
          "output_type": "execute_result",
          "data": {
            "text/plain": [
              "tensor([5., 5., 5., 5., 5.])"
            ]
          },
          "metadata": {
            "tags": []
          },
          "execution_count": 5
        }
      ]
    },
    {
      "metadata": {
        "id": "71MrWdO6KjEz",
        "colab_type": "code",
        "colab": {
          "autoexec": {
            "startup": false,
            "wait_interval": 0
          },
          "base_uri": "https://localhost:8080/",
          "height": 85
        },
        "outputId": "e5892dc8-52d9-4cf3-f1a6-af7c2f8f3724",
        "executionInfo": {
          "status": "ok",
          "timestamp": 1532869893784,
          "user_tz": -330,
          "elapsed": 1296,
          "user": {
            "displayName": "Divyam Srivastava",
            "photoUrl": "//lh3.googleusercontent.com/-WZcfnp5pNtk/AAAAAAAAAAI/AAAAAAAAAXo/yGhBvt-FNho/s50-c-k-no/photo.jpg",
            "userId": "112121959970026521392"
          }
        }
      },
      "cell_type": "code",
      "source": [
        "y.fill_(7)"
      ],
      "execution_count": 6,
      "outputs": [
        {
          "output_type": "execute_result",
          "data": {
            "text/plain": [
              "tensor([[7., 7., 7., 7., 7.],\n",
              "        [7., 7., 7., 7., 7.],\n",
              "        [7., 7., 7., 7., 7.],\n",
              "        [7., 7., 7., 7., 7.]])"
            ]
          },
          "metadata": {
            "tags": []
          },
          "execution_count": 6
        }
      ]
    },
    {
      "metadata": {
        "id": "t9ix4X1BK6Wg",
        "colab_type": "text"
      },
      "cell_type": "markdown",
      "source": [
        "# **4.** Basic Tensor arithmetics"
      ]
    },
    {
      "metadata": {
        "id": "bRRQwB_NLE7r",
        "colab_type": "code",
        "colab": {
          "autoexec": {
            "startup": false,
            "wait_interval": 0
          },
          "base_uri": "https://localhost:8080/",
          "height": 34
        },
        "outputId": "cc3bf8b2-38e9-4a34-fc95-bc45dc83372e",
        "executionInfo": {
          "status": "ok",
          "timestamp": 1532870035400,
          "user_tz": -330,
          "elapsed": 1352,
          "user": {
            "displayName": "Divyam Srivastava",
            "photoUrl": "//lh3.googleusercontent.com/-WZcfnp5pNtk/AAAAAAAAAAI/AAAAAAAAAXo/yGhBvt-FNho/s50-c-k-no/photo.jpg",
            "userId": "112121959970026521392"
          }
        }
      },
      "cell_type": "code",
      "source": [
        "x.sum()\n"
      ],
      "execution_count": 8,
      "outputs": [
        {
          "output_type": "execute_result",
          "data": {
            "text/plain": [
              "tensor(25.)"
            ]
          },
          "metadata": {
            "tags": []
          },
          "execution_count": 8
        }
      ]
    },
    {
      "metadata": {
        "id": "aJfepqoCLGo_",
        "colab_type": "code",
        "colab": {
          "autoexec": {
            "startup": false,
            "wait_interval": 0
          },
          "base_uri": "https://localhost:8080/",
          "height": 34
        },
        "outputId": "6c2728e7-d357-4675-b800-5b1e82f8b074",
        "executionInfo": {
          "status": "ok",
          "timestamp": 1532870044026,
          "user_tz": -330,
          "elapsed": 1646,
          "user": {
            "displayName": "Divyam Srivastava",
            "photoUrl": "//lh3.googleusercontent.com/-WZcfnp5pNtk/AAAAAAAAAAI/AAAAAAAAAXo/yGhBvt-FNho/s50-c-k-no/photo.jpg",
            "userId": "112121959970026521392"
          }
        }
      },
      "cell_type": "code",
      "source": [
        "y.mean()"
      ],
      "execution_count": 9,
      "outputs": [
        {
          "output_type": "execute_result",
          "data": {
            "text/plain": [
              "tensor(7.)"
            ]
          },
          "metadata": {
            "tags": []
          },
          "execution_count": 9
        }
      ]
    },
    {
      "metadata": {
        "id": "08k9GyoULKJm",
        "colab_type": "code",
        "colab": {
          "autoexec": {
            "startup": false,
            "wait_interval": 0
          },
          "base_uri": "https://localhost:8080/",
          "height": 34
        },
        "outputId": "f016efd2-7229-40e9-bf5b-7a6e2cfc9f46",
        "executionInfo": {
          "status": "ok",
          "timestamp": 1532870052266,
          "user_tz": -330,
          "elapsed": 1043,
          "user": {
            "displayName": "Divyam Srivastava",
            "photoUrl": "//lh3.googleusercontent.com/-WZcfnp5pNtk/AAAAAAAAAAI/AAAAAAAAAXo/yGhBvt-FNho/s50-c-k-no/photo.jpg",
            "userId": "112121959970026521392"
          }
        }
      },
      "cell_type": "code",
      "source": [
        "y.std()"
      ],
      "execution_count": 10,
      "outputs": [
        {
          "output_type": "execute_result",
          "data": {
            "text/plain": [
              "tensor(0.)"
            ]
          },
          "metadata": {
            "tags": []
          },
          "execution_count": 10
        }
      ]
    },
    {
      "metadata": {
        "id": "K37AT7p4Lx_O",
        "colab_type": "text"
      },
      "cell_type": "markdown",
      "source": [
        "# **5.** Turning numpy arrays to Pytorch Tensors."
      ]
    },
    {
      "metadata": {
        "id": "SypsSwZ3L9oy",
        "colab_type": "code",
        "colab": {
          "autoexec": {
            "startup": false,
            "wait_interval": 0
          }
        }
      },
      "cell_type": "code",
      "source": [
        "import numpy as np"
      ],
      "execution_count": 0,
      "outputs": []
    },
    {
      "metadata": {
        "id": "Aifn0SyrMHS6",
        "colab_type": "code",
        "colab": {
          "autoexec": {
            "startup": false,
            "wait_interval": 0
          },
          "base_uri": "https://localhost:8080/",
          "height": 85
        },
        "outputId": "508b5c57-b21e-4d7c-adae-a2127e8c23d7",
        "executionInfo": {
          "status": "ok",
          "timestamp": 1532870346202,
          "user_tz": -330,
          "elapsed": 1323,
          "user": {
            "displayName": "Divyam Srivastava",
            "photoUrl": "//lh3.googleusercontent.com/-WZcfnp5pNtk/AAAAAAAAAAI/AAAAAAAAAXo/yGhBvt-FNho/s50-c-k-no/photo.jpg",
            "userId": "112121959970026521392"
          }
        }
      },
      "cell_type": "code",
      "source": [
        "a = np.zeros((4,5))  #the type is array\n",
        "a"
      ],
      "execution_count": 16,
      "outputs": [
        {
          "output_type": "execute_result",
          "data": {
            "text/plain": [
              "array([[0., 0., 0., 0., 0.],\n",
              "       [0., 0., 0., 0., 0.],\n",
              "       [0., 0., 0., 0., 0.],\n",
              "       [0., 0., 0., 0., 0.]])"
            ]
          },
          "metadata": {
            "tags": []
          },
          "execution_count": 16
        }
      ]
    },
    {
      "metadata": {
        "id": "5b51FaDdMN6H",
        "colab_type": "code",
        "colab": {
          "autoexec": {
            "startup": false,
            "wait_interval": 0
          },
          "base_uri": "https://localhost:8080/",
          "height": 85
        },
        "outputId": "ed5cde76-1009-4562-efa9-f0430ead7082",
        "executionInfo": {
          "status": "ok",
          "timestamp": 1532870388399,
          "user_tz": -330,
          "elapsed": 1594,
          "user": {
            "displayName": "Divyam Srivastava",
            "photoUrl": "//lh3.googleusercontent.com/-WZcfnp5pNtk/AAAAAAAAAAI/AAAAAAAAAXo/yGhBvt-FNho/s50-c-k-no/photo.jpg",
            "userId": "112121959970026521392"
          }
        }
      },
      "cell_type": "code",
      "source": [
        "a1 = t.from_numpy(a)   #the type is tensor\n",
        "a1"
      ],
      "execution_count": 19,
      "outputs": [
        {
          "output_type": "execute_result",
          "data": {
            "text/plain": [
              "tensor([[0., 0., 0., 0., 0.],\n",
              "        [0., 0., 0., 0., 0.],\n",
              "        [0., 0., 0., 0., 0.],\n",
              "        [0., 0., 0., 0., 0.]], dtype=torch.float64)"
            ]
          },
          "metadata": {
            "tags": []
          },
          "execution_count": 19
        }
      ]
    },
    {
      "metadata": {
        "id": "yAT6JWfUM8Fi",
        "colab_type": "text"
      },
      "cell_type": "markdown",
      "source": [
        "# **6.** Viewing, Slicing, Expanding your **Tensors**"
      ]
    },
    {
      "metadata": {
        "id": "SShyrpxONIb0",
        "colab_type": "code",
        "colab": {
          "autoexec": {
            "startup": false,
            "wait_interval": 0
          },
          "base_uri": "https://localhost:8080/",
          "height": 51
        },
        "outputId": "9ad0922c-d605-4699-c924-c5df74269ee0",
        "executionInfo": {
          "status": "ok",
          "timestamp": 1532870683628,
          "user_tz": -330,
          "elapsed": 4027,
          "user": {
            "displayName": "Divyam Srivastava",
            "photoUrl": "//lh3.googleusercontent.com/-WZcfnp5pNtk/AAAAAAAAAAI/AAAAAAAAAXo/yGhBvt-FNho/s50-c-k-no/photo.jpg",
            "userId": "112121959970026521392"
          }
        }
      },
      "cell_type": "code",
      "source": [
        "x = t.Tensor([ [ 1, 3, 0 ],[ 2, 4, 6 ] ])\n",
        "x"
      ],
      "execution_count": 20,
      "outputs": [
        {
          "output_type": "execute_result",
          "data": {
            "text/plain": [
              "tensor([[1., 3., 0.],\n",
              "        [2., 4., 6.]])"
            ]
          },
          "metadata": {
            "tags": []
          },
          "execution_count": 20
        }
      ]
    },
    {
      "metadata": {
        "id": "AKdoXKmrNtoP",
        "colab_type": "text"
      },
      "cell_type": "markdown",
      "source": [
        "**Note** : By default , **torch.Tensor** is an alias for **torch.FloatTensor**. You can change it using **torch.set_default_tensor_type**"
      ]
    },
    {
      "metadata": {
        "id": "ksFI84VnOtwR",
        "colab_type": "code",
        "colab": {
          "autoexec": {
            "startup": false,
            "wait_interval": 0
          },
          "base_uri": "https://localhost:8080/",
          "height": 68
        },
        "outputId": "ddd8dc5f-dec1-415c-ffff-226b27f35681",
        "executionInfo": {
          "status": "ok",
          "timestamp": 1532871037564,
          "user_tz": -330,
          "elapsed": 1234,
          "user": {
            "displayName": "Divyam Srivastava",
            "photoUrl": "//lh3.googleusercontent.com/-WZcfnp5pNtk/AAAAAAAAAAI/AAAAAAAAAXo/yGhBvt-FNho/s50-c-k-no/photo.jpg",
            "userId": "112121959970026521392"
          }
        }
      },
      "cell_type": "code",
      "source": [
        "x.t()   #Transpose"
      ],
      "execution_count": 21,
      "outputs": [
        {
          "output_type": "execute_result",
          "data": {
            "text/plain": [
              "tensor([[1., 2.],\n",
              "        [3., 4.],\n",
              "        [0., 6.]])"
            ]
          },
          "metadata": {
            "tags": []
          },
          "execution_count": 21
        }
      ]
    },
    {
      "metadata": {
        "id": "VjsvrYARO80v",
        "colab_type": "code",
        "colab": {
          "autoexec": {
            "startup": false,
            "wait_interval": 0
          },
          "base_uri": "https://localhost:8080/",
          "height": 34
        },
        "outputId": "3b81ca95-9dd4-46cb-8a9b-ff9faa502595",
        "executionInfo": {
          "status": "ok",
          "timestamp": 1532871079574,
          "user_tz": -330,
          "elapsed": 1595,
          "user": {
            "displayName": "Divyam Srivastava",
            "photoUrl": "//lh3.googleusercontent.com/-WZcfnp5pNtk/AAAAAAAAAAI/AAAAAAAAAXo/yGhBvt-FNho/s50-c-k-no/photo.jpg",
            "userId": "112121959970026521392"
          }
        }
      },
      "cell_type": "code",
      "source": [
        "x.view(1,-1)           #View lets you get the Tensor of desired shape from a given Tensor."
      ],
      "execution_count": 22,
      "outputs": [
        {
          "output_type": "execute_result",
          "data": {
            "text/plain": [
              "tensor([[1., 3., 0., 2., 4., 6.]])"
            ]
          },
          "metadata": {
            "tags": []
          },
          "execution_count": 22
        }
      ]
    },
    {
      "metadata": {
        "id": "WTdP7h8NPd7P",
        "colab_type": "text"
      },
      "cell_type": "markdown",
      "source": [
        "**Note** Use (-1) as the index when you are uncertain about the number of row/columns which would appear after viewing. \n",
        "<br> \n",
        "In the above example , I wanted to  view my Tensor as only a single row but didnt know how many columns that would require to adjust the values. \n",
        "<br>\n",
        "(**Thats not true :P**)"
      ]
    },
    {
      "metadata": {
        "id": "javsRY44QHex",
        "colab_type": "code",
        "colab": {
          "autoexec": {
            "startup": false,
            "wait_interval": 0
          },
          "base_uri": "https://localhost:8080/",
          "height": 34
        },
        "outputId": "37be6955-290b-4c13-a2e9-7501c7b191f2",
        "executionInfo": {
          "status": "ok",
          "timestamp": 1532871415902,
          "user_tz": -330,
          "elapsed": 778,
          "user": {
            "displayName": "Divyam Srivastava",
            "photoUrl": "//lh3.googleusercontent.com/-WZcfnp5pNtk/AAAAAAAAAAI/AAAAAAAAAXo/yGhBvt-FNho/s50-c-k-no/photo.jpg",
            "userId": "112121959970026521392"
          }
        }
      },
      "cell_type": "code",
      "source": [
        "x.view(-1) #Equivalent"
      ],
      "execution_count": 23,
      "outputs": [
        {
          "output_type": "execute_result",
          "data": {
            "text/plain": [
              "tensor([1., 3., 0., 2., 4., 6.])"
            ]
          },
          "metadata": {
            "tags": []
          },
          "execution_count": 23
        }
      ]
    },
    {
      "metadata": {
        "id": "kMPXr-pQQZTF",
        "colab_type": "code",
        "colab": {
          "autoexec": {
            "startup": false,
            "wait_interval": 0
          },
          "base_uri": "https://localhost:8080/",
          "height": 68
        },
        "outputId": "d4582cbb-2358-40a1-8689-e6d7bae961ff",
        "executionInfo": {
          "status": "ok",
          "timestamp": 1532871524675,
          "user_tz": -330,
          "elapsed": 1035,
          "user": {
            "displayName": "Divyam Srivastava",
            "photoUrl": "//lh3.googleusercontent.com/-WZcfnp5pNtk/AAAAAAAAAAI/AAAAAAAAAXo/yGhBvt-FNho/s50-c-k-no/photo.jpg",
            "userId": "112121959970026521392"
          }
        }
      },
      "cell_type": "code",
      "source": [
        "x.view(3,-1)   #Note how it is different from x.t()"
      ],
      "execution_count": 25,
      "outputs": [
        {
          "output_type": "execute_result",
          "data": {
            "text/plain": [
              "tensor([[1., 3.],\n",
              "        [0., 2.],\n",
              "        [4., 6.]])"
            ]
          },
          "metadata": {
            "tags": []
          },
          "execution_count": 25
        }
      ]
    },
    {
      "metadata": {
        "id": "JLis1RjGQ6px",
        "colab_type": "text"
      },
      "cell_type": "markdown",
      "source": [
        "**Tensor.narrow(dim, start, length)** : Another useful operation for creating new Tensors which is a sub-part of an existing Tensor, by constraining along one of the dimensions which can be row/column/channel et-al depending on your **Tensor.size()**. \n",
        "<br>\n",
        "\n",
        "** ---** It shares its contents with the original **Tensor** and modifying one changes the other."
      ]
    },
    {
      "metadata": {
        "id": "1iuboAxoSM5z",
        "colab_type": "code",
        "colab": {
          "autoexec": {
            "startup": false,
            "wait_interval": 0
          },
          "base_uri": "https://localhost:8080/",
          "height": 85
        },
        "outputId": "2c264f3b-8173-4c4f-cad8-4de91adc9040",
        "executionInfo": {
          "status": "ok",
          "timestamp": 1532871965400,
          "user_tz": -330,
          "elapsed": 1563,
          "user": {
            "displayName": "Divyam Srivastava",
            "photoUrl": "//lh3.googleusercontent.com/-WZcfnp5pNtk/AAAAAAAAAAI/AAAAAAAAAXo/yGhBvt-FNho/s50-c-k-no/photo.jpg",
            "userId": "112121959970026521392"
          }
        }
      },
      "cell_type": "code",
      "source": [
        "a = t.Tensor(4,5).normal_()\n",
        "a"
      ],
      "execution_count": 27,
      "outputs": [
        {
          "output_type": "execute_result",
          "data": {
            "text/plain": [
              "tensor([[-0.9450, -0.8588, -0.7289,  1.0843, -0.4016],\n",
              "        [ 1.4458, -0.4735, -0.5568,  0.7486, -0.6572],\n",
              "        [-0.3240, -0.5077,  1.5484,  0.5645, -0.4366],\n",
              "        [ 1.0366, -0.1732, -0.3483, -1.7900,  0.2823]])"
            ]
          },
          "metadata": {
            "tags": []
          },
          "execution_count": 27
        }
      ]
    },
    {
      "metadata": {
        "id": "2nBgXKCwSXva",
        "colab_type": "code",
        "colab": {
          "autoexec": {
            "startup": false,
            "wait_interval": 0
          },
          "base_uri": "https://localhost:8080/",
          "height": 85
        },
        "outputId": "97105af5-cee4-41d8-e117-d983233941e7",
        "executionInfo": {
          "status": "ok",
          "timestamp": 1532871984807,
          "user_tz": -330,
          "elapsed": 1402,
          "user": {
            "displayName": "Divyam Srivastava",
            "photoUrl": "//lh3.googleusercontent.com/-WZcfnp5pNtk/AAAAAAAAAAI/AAAAAAAAAXo/yGhBvt-FNho/s50-c-k-no/photo.jpg",
            "userId": "112121959970026521392"
          }
        }
      },
      "cell_type": "code",
      "source": [
        "a.narrow(1,0,3)    "
      ],
      "execution_count": 28,
      "outputs": [
        {
          "output_type": "execute_result",
          "data": {
            "text/plain": [
              "tensor([[-0.9450, -0.8588, -0.7289],\n",
              "        [ 1.4458, -0.4735, -0.5568],\n",
              "        [-0.3240, -0.5077,  1.5484],\n",
              "        [ 1.0366, -0.1732, -0.3483]])"
            ]
          },
          "metadata": {
            "tags": []
          },
          "execution_count": 28
        }
      ]
    },
    {
      "metadata": {
        "id": "zgSHXm85SqlK",
        "colab_type": "text"
      },
      "cell_type": "markdown",
      "source": [
        "** --- ** \"a\" is a Two dimensional tensor, so param **dim** can be either **0 : row or 1 : column**\n",
        "<br>\n",
        "** --- ** For a 3-D Tensor, **dim** can be **0 : channels or 1 : row or 2 : column**"
      ]
    },
    {
      "metadata": {
        "id": "l2_S-1ffTU-J",
        "colab_type": "code",
        "colab": {
          "autoexec": {
            "startup": false,
            "wait_interval": 0
          },
          "base_uri": "https://localhost:8080/",
          "height": 51
        },
        "outputId": "99455113-4d9e-42de-80fa-249adf695821",
        "executionInfo": {
          "status": "ok",
          "timestamp": 1532872267471,
          "user_tz": -330,
          "elapsed": 2067,
          "user": {
            "displayName": "Divyam Srivastava",
            "photoUrl": "//lh3.googleusercontent.com/-WZcfnp5pNtk/AAAAAAAAAAI/AAAAAAAAAXo/yGhBvt-FNho/s50-c-k-no/photo.jpg",
            "userId": "112121959970026521392"
          }
        }
      },
      "cell_type": "code",
      "source": [
        "a.narrow(0,2,2).fill_(1)"
      ],
      "execution_count": 30,
      "outputs": [
        {
          "output_type": "execute_result",
          "data": {
            "text/plain": [
              "tensor([[1., 1., 1., 1., 1.],\n",
              "        [1., 1., 1., 1., 1.]])"
            ]
          },
          "metadata": {
            "tags": []
          },
          "execution_count": 30
        }
      ]
    },
    {
      "metadata": {
        "id": "9x4TSsYBTa5d",
        "colab_type": "code",
        "colab": {
          "autoexec": {
            "startup": false,
            "wait_interval": 0
          },
          "base_uri": "https://localhost:8080/",
          "height": 85
        },
        "outputId": "3b96b34c-58f9-44a1-bdf4-fff30fd13831",
        "executionInfo": {
          "status": "ok",
          "timestamp": 1532872271503,
          "user_tz": -330,
          "elapsed": 1734,
          "user": {
            "displayName": "Divyam Srivastava",
            "photoUrl": "//lh3.googleusercontent.com/-WZcfnp5pNtk/AAAAAAAAAAI/AAAAAAAAAXo/yGhBvt-FNho/s50-c-k-no/photo.jpg",
            "userId": "112121959970026521392"
          }
        }
      },
      "cell_type": "code",
      "source": [
        "a   #Modifying one changes the other. Beware!!"
      ],
      "execution_count": 31,
      "outputs": [
        {
          "output_type": "execute_result",
          "data": {
            "text/plain": [
              "tensor([[-0.9450, -0.8588, -0.7289,  1.0843, -0.4016],\n",
              "        [ 1.4458, -0.4735, -0.5568,  0.7486, -0.6572],\n",
              "        [ 1.0000,  1.0000,  1.0000,  1.0000,  1.0000],\n",
              "        [ 1.0000,  1.0000,  1.0000,  1.0000,  1.0000]])"
            ]
          },
          "metadata": {
            "tags": []
          },
          "execution_count": 31
        }
      ]
    },
    {
      "metadata": {
        "id": "_5JPZBDQUIH2",
        "colab_type": "text"
      },
      "cell_type": "markdown",
      "source": [
        "** ---** To **expand** your tensor channels, first add a channel dimension to your Tensor (if absent) in the **torch.view()** and then use **Tensor.expand()** to expand your channels."
      ]
    },
    {
      "metadata": {
        "id": "iwQ0ZvSrUvEW",
        "colab_type": "code",
        "colab": {
          "autoexec": {
            "startup": false,
            "wait_interval": 0
          },
          "base_uri": "https://localhost:8080/",
          "height": 306
        },
        "outputId": "a758fc12-b274-4073-d3f8-aafc33b30ff1",
        "executionInfo": {
          "status": "ok",
          "timestamp": 1532872603227,
          "user_tz": -330,
          "elapsed": 1612,
          "user": {
            "displayName": "Divyam Srivastava",
            "photoUrl": "//lh3.googleusercontent.com/-WZcfnp5pNtk/AAAAAAAAAAI/AAAAAAAAAXo/yGhBvt-FNho/s50-c-k-no/photo.jpg",
            "userId": "112121959970026521392"
          }
        }
      },
      "cell_type": "code",
      "source": [
        "a.view(1,5,-1).expand(3,5,-1) #one channel expanded to 3 channels"
      ],
      "execution_count": 32,
      "outputs": [
        {
          "output_type": "execute_result",
          "data": {
            "text/plain": [
              "tensor([[[-0.9450, -0.8588, -0.7289,  1.0843],\n",
              "         [-0.4016,  1.4458, -0.4735, -0.5568],\n",
              "         [ 0.7486, -0.6572,  1.0000,  1.0000],\n",
              "         [ 1.0000,  1.0000,  1.0000,  1.0000],\n",
              "         [ 1.0000,  1.0000,  1.0000,  1.0000]],\n",
              "\n",
              "        [[-0.9450, -0.8588, -0.7289,  1.0843],\n",
              "         [-0.4016,  1.4458, -0.4735, -0.5568],\n",
              "         [ 0.7486, -0.6572,  1.0000,  1.0000],\n",
              "         [ 1.0000,  1.0000,  1.0000,  1.0000],\n",
              "         [ 1.0000,  1.0000,  1.0000,  1.0000]],\n",
              "\n",
              "        [[-0.9450, -0.8588, -0.7289,  1.0843],\n",
              "         [-0.4016,  1.4458, -0.4735, -0.5568],\n",
              "         [ 0.7486, -0.6572,  1.0000,  1.0000],\n",
              "         [ 1.0000,  1.0000,  1.0000,  1.0000],\n",
              "         [ 1.0000,  1.0000,  1.0000,  1.0000]]])"
            ]
          },
          "metadata": {
            "tags": []
          },
          "execution_count": 32
        }
      ]
    },
    {
      "metadata": {
        "id": "kYiKiVJIU68s",
        "colab_type": "code",
        "colab": {
          "autoexec": {
            "startup": false,
            "wait_interval": 0
          },
          "base_uri": "https://localhost:8080/",
          "height": 204
        },
        "outputId": "94b242e2-971a-4a06-dbb2-166ea527e1f3",
        "executionInfo": {
          "status": "ok",
          "timestamp": 1532872635206,
          "user_tz": -330,
          "elapsed": 1194,
          "user": {
            "displayName": "Divyam Srivastava",
            "photoUrl": "//lh3.googleusercontent.com/-WZcfnp5pNtk/AAAAAAAAAAI/AAAAAAAAAXo/yGhBvt-FNho/s50-c-k-no/photo.jpg",
            "userId": "112121959970026521392"
          }
        }
      },
      "cell_type": "code",
      "source": [
        "a.view(1,5,-1).expand(2,5,-1)   #one channel expanded to 2 channels\n",
        "                                # Go on.. play around to discover more"
      ],
      "execution_count": 33,
      "outputs": [
        {
          "output_type": "execute_result",
          "data": {
            "text/plain": [
              "tensor([[[-0.9450, -0.8588, -0.7289,  1.0843],\n",
              "         [-0.4016,  1.4458, -0.4735, -0.5568],\n",
              "         [ 0.7486, -0.6572,  1.0000,  1.0000],\n",
              "         [ 1.0000,  1.0000,  1.0000,  1.0000],\n",
              "         [ 1.0000,  1.0000,  1.0000,  1.0000]],\n",
              "\n",
              "        [[-0.9450, -0.8588, -0.7289,  1.0843],\n",
              "         [-0.4016,  1.4458, -0.4735, -0.5568],\n",
              "         [ 0.7486, -0.6572,  1.0000,  1.0000],\n",
              "         [ 1.0000,  1.0000,  1.0000,  1.0000],\n",
              "         [ 1.0000,  1.0000,  1.0000,  1.0000]]])"
            ]
          },
          "metadata": {
            "tags": []
          },
          "execution_count": 33
        }
      ]
    },
    {
      "metadata": {
        "id": "cjduGN37VC4U",
        "colab_type": "code",
        "colab": {
          "autoexec": {
            "startup": false,
            "wait_interval": 0
          },
          "base_uri": "https://localhost:8080/",
          "height": 102
        },
        "outputId": "a4aaac33-3bd7-40cb-defc-a63fa900887a",
        "executionInfo": {
          "status": "ok",
          "timestamp": 1532872890269,
          "user_tz": -330,
          "elapsed": 1722,
          "user": {
            "displayName": "Divyam Srivastava",
            "photoUrl": "//lh3.googleusercontent.com/-WZcfnp5pNtk/AAAAAAAAAAI/AAAAAAAAAXo/yGhBvt-FNho/s50-c-k-no/photo.jpg",
            "userId": "112121959970026521392"
          }
        }
      },
      "cell_type": "code",
      "source": [
        "b = t.Tensor([ [ [ 1, 2, 1 ],[ 2, 1, 2 ] ],[ [ 3, 0, 3 ],[ 0, 3, 0 ] ] ])   # b has two channels\n",
        "b"
      ],
      "execution_count": 36,
      "outputs": [
        {
          "output_type": "execute_result",
          "data": {
            "text/plain": [
              "tensor([[[1., 2., 1.],\n",
              "         [2., 1., 2.]],\n",
              "\n",
              "        [[3., 0., 3.],\n",
              "         [0., 3., 0.]]])"
            ]
          },
          "metadata": {
            "tags": []
          },
          "execution_count": 36
        }
      ]
    },
    {
      "metadata": {
        "id": "m-459EiIVlXY",
        "colab_type": "code",
        "colab": {
          "autoexec": {
            "startup": false,
            "wait_interval": 0
          },
          "base_uri": "https://localhost:8080/",
          "height": 51
        },
        "outputId": "9a055f36-f81a-4ee6-c80c-a78cb6cc6602",
        "executionInfo": {
          "status": "ok",
          "timestamp": 1532872913404,
          "user_tz": -330,
          "elapsed": 1480,
          "user": {
            "displayName": "Divyam Srivastava",
            "photoUrl": "//lh3.googleusercontent.com/-WZcfnp5pNtk/AAAAAAAAAAI/AAAAAAAAAXo/yGhBvt-FNho/s50-c-k-no/photo.jpg",
            "userId": "112121959970026521392"
          }
        }
      },
      "cell_type": "code",
      "source": [
        "b.narrow(0,1,1)    #1st parameter is 0 : channel"
      ],
      "execution_count": 37,
      "outputs": [
        {
          "output_type": "execute_result",
          "data": {
            "text/plain": [
              "tensor([[[3., 0., 3.],\n",
              "         [0., 3., 0.]]])"
            ]
          },
          "metadata": {
            "tags": []
          },
          "execution_count": 37
        }
      ]
    },
    {
      "metadata": {
        "id": "aMlUwqELVwii",
        "colab_type": "code",
        "colab": {
          "autoexec": {
            "startup": false,
            "wait_interval": 0
          },
          "base_uri": "https://localhost:8080/",
          "height": 102
        },
        "outputId": "f6628df8-f9e2-445f-c514-1e0c12052b90",
        "executionInfo": {
          "status": "ok",
          "timestamp": 1532872964662,
          "user_tz": -330,
          "elapsed": 1529,
          "user": {
            "displayName": "Divyam Srivastava",
            "photoUrl": "//lh3.googleusercontent.com/-WZcfnp5pNtk/AAAAAAAAAAI/AAAAAAAAAXo/yGhBvt-FNho/s50-c-k-no/photo.jpg",
            "userId": "112121959970026521392"
          }
        }
      },
      "cell_type": "code",
      "source": [
        "b.narrow(1,0,2)    #1st parameter is 1 : row"
      ],
      "execution_count": 38,
      "outputs": [
        {
          "output_type": "execute_result",
          "data": {
            "text/plain": [
              "tensor([[[1., 2., 1.],\n",
              "         [2., 1., 2.]],\n",
              "\n",
              "        [[3., 0., 3.],\n",
              "         [0., 3., 0.]]])"
            ]
          },
          "metadata": {
            "tags": []
          },
          "execution_count": 38
        }
      ]
    },
    {
      "metadata": {
        "id": "MvgRW92UWTOi",
        "colab_type": "code",
        "colab": {
          "autoexec": {
            "startup": false,
            "wait_interval": 0
          },
          "base_uri": "https://localhost:8080/",
          "height": 102
        },
        "outputId": "e0baf310-8de6-4fb7-a612-3fe5d520d70b",
        "executionInfo": {
          "status": "ok",
          "timestamp": 1532873026515,
          "user_tz": -330,
          "elapsed": 1456,
          "user": {
            "displayName": "Divyam Srivastava",
            "photoUrl": "//lh3.googleusercontent.com/-WZcfnp5pNtk/AAAAAAAAAAI/AAAAAAAAAXo/yGhBvt-FNho/s50-c-k-no/photo.jpg",
            "userId": "112121959970026521392"
          }
        }
      },
      "cell_type": "code",
      "source": [
        "b.narrow(2,0,2)"
      ],
      "execution_count": 39,
      "outputs": [
        {
          "output_type": "execute_result",
          "data": {
            "text/plain": [
              "tensor([[[1., 2.],\n",
              "         [2., 1.]],\n",
              "\n",
              "        [[3., 0.],\n",
              "         [0., 3.]]])"
            ]
          },
          "metadata": {
            "tags": []
          },
          "execution_count": 39
        }
      ]
    },
    {
      "metadata": {
        "id": "EdMull3BWqdR",
        "colab_type": "text"
      },
      "cell_type": "markdown",
      "source": [
        "# **7.** Broadcasting Tensors <br>\n",
        "** --- ** Expands dimensions by size 1 by replicating coefficients, when necessary for certain operations."
      ]
    },
    {
      "metadata": {
        "id": "y0Sqg42fXK9d",
        "colab_type": "code",
        "colab": {
          "autoexec": {
            "startup": false,
            "wait_interval": 0
          }
        }
      },
      "cell_type": "code",
      "source": [
        "a = t.Tensor([[1] , [2] , [3] , [4]])\n",
        "b = t.Tensor([[5 , -5, 5, -5, 5]])\n"
      ],
      "execution_count": 0,
      "outputs": []
    },
    {
      "metadata": {
        "id": "68K2SZaPXNny",
        "colab_type": "code",
        "colab": {
          "autoexec": {
            "startup": false,
            "wait_interval": 0
          },
          "base_uri": "https://localhost:8080/",
          "height": 85
        },
        "outputId": "75754037-698a-4a97-c1e9-09899e13c5c1",
        "executionInfo": {
          "status": "ok",
          "timestamp": 1532873242005,
          "user_tz": -330,
          "elapsed": 1400,
          "user": {
            "displayName": "Divyam Srivastava",
            "photoUrl": "//lh3.googleusercontent.com/-WZcfnp5pNtk/AAAAAAAAAAI/AAAAAAAAAXo/yGhBvt-FNho/s50-c-k-no/photo.jpg",
            "userId": "112121959970026521392"
          }
        }
      },
      "cell_type": "code",
      "source": [
        "a"
      ],
      "execution_count": 44,
      "outputs": [
        {
          "output_type": "execute_result",
          "data": {
            "text/plain": [
              "tensor([[1.],\n",
              "        [2.],\n",
              "        [3.],\n",
              "        [4.]])"
            ]
          },
          "metadata": {
            "tags": []
          },
          "execution_count": 44
        }
      ]
    },
    {
      "metadata": {
        "id": "INMsmWbRXSca",
        "colab_type": "code",
        "colab": {
          "autoexec": {
            "startup": false,
            "wait_interval": 0
          },
          "base_uri": "https://localhost:8080/",
          "height": 34
        },
        "outputId": "c64101a7-40d9-44cb-cb8e-6d8ab3312a11",
        "executionInfo": {
          "status": "ok",
          "timestamp": 1532873246818,
          "user_tz": -330,
          "elapsed": 1263,
          "user": {
            "displayName": "Divyam Srivastava",
            "photoUrl": "//lh3.googleusercontent.com/-WZcfnp5pNtk/AAAAAAAAAAI/AAAAAAAAAXo/yGhBvt-FNho/s50-c-k-no/photo.jpg",
            "userId": "112121959970026521392"
          }
        }
      },
      "cell_type": "code",
      "source": [
        "b"
      ],
      "execution_count": 45,
      "outputs": [
        {
          "output_type": "execute_result",
          "data": {
            "text/plain": [
              "tensor([[ 5., -5.,  5., -5.,  5.]])"
            ]
          },
          "metadata": {
            "tags": []
          },
          "execution_count": 45
        }
      ]
    },
    {
      "metadata": {
        "id": "_4nRidLMXYLh",
        "colab_type": "code",
        "colab": {
          "autoexec": {
            "startup": false,
            "wait_interval": 0
          },
          "base_uri": "https://localhost:8080/",
          "height": 85
        },
        "outputId": "f2f9ed2c-7a9f-44eb-cf29-e6c8b7cf1e4d",
        "executionInfo": {
          "status": "ok",
          "timestamp": 1532873262702,
          "user_tz": -330,
          "elapsed": 1512,
          "user": {
            "displayName": "Divyam Srivastava",
            "photoUrl": "//lh3.googleusercontent.com/-WZcfnp5pNtk/AAAAAAAAAAI/AAAAAAAAAXo/yGhBvt-FNho/s50-c-k-no/photo.jpg",
            "userId": "112121959970026521392"
          }
        }
      },
      "cell_type": "code",
      "source": [
        "a+b"
      ],
      "execution_count": 46,
      "outputs": [
        {
          "output_type": "execute_result",
          "data": {
            "text/plain": [
              "tensor([[ 6., -4.,  6., -4.,  6.],\n",
              "        [ 7., -3.,  7., -3.,  7.],\n",
              "        [ 8., -2.,  8., -2.,  8.],\n",
              "        [ 9., -1.,  9., -1.,  9.]])"
            ]
          },
          "metadata": {
            "tags": []
          },
          "execution_count": 46
        }
      ]
    },
    {
      "metadata": {
        "id": "bH7zDlelX5uH",
        "colab_type": "text"
      },
      "cell_type": "markdown",
      "source": [
        "# **8.** Torch \"Storage\" : Going Deeper \n",
        "<br>\n",
        "** --- ** A Tensor is basically a view of low level **storage()**"
      ]
    },
    {
      "metadata": {
        "id": "WXwasQxNb6MR",
        "colab_type": "code",
        "colab": {
          "autoexec": {
            "startup": false,
            "wait_interval": 0
          },
          "base_uri": "https://localhost:8080/",
          "height": 85
        },
        "outputId": "4e138792-c3ea-455c-cd26-4ece75641f26",
        "executionInfo": {
          "status": "ok",
          "timestamp": 1532874468684,
          "user_tz": -330,
          "elapsed": 1498,
          "user": {
            "displayName": "Divyam Srivastava",
            "photoUrl": "//lh3.googleusercontent.com/-WZcfnp5pNtk/AAAAAAAAAAI/AAAAAAAAAXo/yGhBvt-FNho/s50-c-k-no/photo.jpg",
            "userId": "112121959970026521392"
          }
        }
      },
      "cell_type": "code",
      "source": [
        "a = t.Tensor(4,6).zero_()\n",
        "a"
      ],
      "execution_count": 48,
      "outputs": [
        {
          "output_type": "execute_result",
          "data": {
            "text/plain": [
              "tensor([[0., 0., 0., 0., 0., 0.],\n",
              "        [0., 0., 0., 0., 0., 0.],\n",
              "        [0., 0., 0., 0., 0., 0.],\n",
              "        [0., 0., 0., 0., 0., 0.]])"
            ]
          },
          "metadata": {
            "tags": []
          },
          "execution_count": 48
        }
      ]
    },
    {
      "metadata": {
        "id": "I-MMD2W1cBJH",
        "colab_type": "code",
        "colab": {
          "autoexec": {
            "startup": false,
            "wait_interval": 0
          },
          "base_uri": "https://localhost:8080/",
          "height": 442
        },
        "outputId": "66edfbbc-008d-4af0-9c4f-154ef11d1f98",
        "executionInfo": {
          "status": "ok",
          "timestamp": 1532874494385,
          "user_tz": -330,
          "elapsed": 1236,
          "user": {
            "displayName": "Divyam Srivastava",
            "photoUrl": "//lh3.googleusercontent.com/-WZcfnp5pNtk/AAAAAAAAAAI/AAAAAAAAAXo/yGhBvt-FNho/s50-c-k-no/photo.jpg",
            "userId": "112121959970026521392"
          }
        }
      },
      "cell_type": "code",
      "source": [
        "a_store = a.storage()    #4*6 stored  as 24*1\n",
        "a_store  "
      ],
      "execution_count": 49,
      "outputs": [
        {
          "output_type": "execute_result",
          "data": {
            "text/plain": [
              " 0.0\n",
              " 0.0\n",
              " 0.0\n",
              " 0.0\n",
              " 0.0\n",
              " 0.0\n",
              " 0.0\n",
              " 0.0\n",
              " 0.0\n",
              " 0.0\n",
              " 0.0\n",
              " 0.0\n",
              " 0.0\n",
              " 0.0\n",
              " 0.0\n",
              " 0.0\n",
              " 0.0\n",
              " 0.0\n",
              " 0.0\n",
              " 0.0\n",
              " 0.0\n",
              " 0.0\n",
              " 0.0\n",
              " 0.0\n",
              "[torch.FloatStorage of size 24]"
            ]
          },
          "metadata": {
            "tags": []
          },
          "execution_count": 49
        }
      ]
    },
    {
      "metadata": {
        "id": "oEgUW4KZcIw1",
        "colab_type": "code",
        "colab": {
          "autoexec": {
            "startup": false,
            "wait_interval": 0
          },
          "base_uri": "https://localhost:8080/",
          "height": 85
        },
        "outputId": "fa469288-b465-42d4-ab4a-48d14ba86eda",
        "executionInfo": {
          "status": "ok",
          "timestamp": 1532874564484,
          "user_tz": -330,
          "elapsed": 1334,
          "user": {
            "displayName": "Divyam Srivastava",
            "photoUrl": "//lh3.googleusercontent.com/-WZcfnp5pNtk/AAAAAAAAAAI/AAAAAAAAAXo/yGhBvt-FNho/s50-c-k-no/photo.jpg",
            "userId": "112121959970026521392"
          }
        }
      },
      "cell_type": "code",
      "source": [
        "a_store[5] = 65    #Modifying values at low level changes it at high level as well.\n",
        "a"
      ],
      "execution_count": 51,
      "outputs": [
        {
          "output_type": "execute_result",
          "data": {
            "text/plain": [
              "tensor([[ 0.,  0.,  0.,  0.,  0., 65.],\n",
              "        [ 0.,  0.,  0.,  0.,  0.,  0.],\n",
              "        [ 0.,  0.,  0.,  0.,  0.,  0.],\n",
              "        [ 0.,  0.,  0.,  0.,  0.,  0.]])"
            ]
          },
          "metadata": {
            "tags": []
          },
          "execution_count": 51
        }
      ]
    },
    {
      "metadata": {
        "id": "vM5t_fsPcwtv",
        "colab_type": "text"
      },
      "cell_type": "markdown",
      "source": [
        "** Note ** : **Tensor.narrow()** ,**Tensor.view()** ,**Tensor.expand()** and various others share the same storage as the original Tensor as was seen previously. "
      ]
    },
    {
      "metadata": {
        "id": "QzMF09L_dzpm",
        "colab_type": "text"
      },
      "cell_type": "markdown",
      "source": [
        "# **9.** Creating Tensors on **GPU** using **cuda()**\n",
        "<br>\n",
        "** ---** Untill now , all tensors created were by default stored on CPU.\n",
        "<br>\n",
        "** --- ** To harness the power of GPU computation, create Tensors using **cuda()**"
      ]
    },
    {
      "metadata": {
        "id": "H5axE8uheAeM",
        "colab_type": "code",
        "colab": {
          "autoexec": {
            "startup": false,
            "wait_interval": 0
          },
          "base_uri": "https://localhost:8080/",
          "height": 102
        },
        "outputId": "f4c491d8-44b7-48c4-ef57-eae0776f2e2b",
        "executionInfo": {
          "status": "ok",
          "timestamp": 1532875173956,
          "user_tz": -330,
          "elapsed": 1276,
          "user": {
            "displayName": "Divyam Srivastava",
            "photoUrl": "//lh3.googleusercontent.com/-WZcfnp5pNtk/AAAAAAAAAAI/AAAAAAAAAXo/yGhBvt-FNho/s50-c-k-no/photo.jpg",
            "userId": "112121959970026521392"
          }
        }
      },
      "cell_type": "code",
      "source": [
        "a = t.Tensor(5,6).normal_()\n",
        "a"
      ],
      "execution_count": 56,
      "outputs": [
        {
          "output_type": "execute_result",
          "data": {
            "text/plain": [
              "tensor([[-0.0859, -0.8396,  0.4854, -0.0655,  0.4835,  1.0850],\n",
              "        [-1.1504,  0.5270, -2.5013,  1.0748,  0.8188, -0.5173],\n",
              "        [ 1.0104,  1.8889, -1.1886,  0.2656,  0.0810,  1.2346],\n",
              "        [ 0.9876,  0.2566,  2.3871, -0.9473, -1.2344,  0.7946],\n",
              "        [ 0.7185,  0.0789, -0.4640, -0.3758,  0.1731,  0.1237]])"
            ]
          },
          "metadata": {
            "tags": []
          },
          "execution_count": 56
        }
      ]
    },
    {
      "metadata": {
        "id": "qpxSSebDewr4",
        "colab_type": "code",
        "colab": {
          "autoexec": {
            "startup": false,
            "wait_interval": 0
          },
          "base_uri": "https://localhost:8080/",
          "height": 119
        },
        "outputId": "abc13768-4ad4-44f7-8628-186df86975b6",
        "executionInfo": {
          "status": "ok",
          "timestamp": 1532875225134,
          "user_tz": -330,
          "elapsed": 1906,
          "user": {
            "displayName": "Divyam Srivastava",
            "photoUrl": "//lh3.googleusercontent.com/-WZcfnp5pNtk/AAAAAAAAAAI/AAAAAAAAAXo/yGhBvt-FNho/s50-c-k-no/photo.jpg",
            "userId": "112121959970026521392"
          }
        }
      },
      "cell_type": "code",
      "source": [
        "a = a.cuda()\n",
        "a"
      ],
      "execution_count": 60,
      "outputs": [
        {
          "output_type": "execute_result",
          "data": {
            "text/plain": [
              "tensor([[-0.0859, -0.8396,  0.4854, -0.0655,  0.4835,  1.0850],\n",
              "        [-1.1504,  0.5270, -2.5013,  1.0748,  0.8188, -0.5173],\n",
              "        [ 1.0104,  1.8889, -1.1886,  0.2656,  0.0810,  1.2346],\n",
              "        [ 0.9876,  0.2566,  2.3871, -0.9473, -1.2344,  0.7946],\n",
              "        [ 0.7185,  0.0789, -0.4640, -0.3758,  0.1731,  0.1237]],\n",
              "       device='cuda:0')"
            ]
          },
          "metadata": {
            "tags": []
          },
          "execution_count": 60
        }
      ]
    },
    {
      "metadata": {
        "id": "8EwLkAFEe8m7",
        "colab_type": "text"
      },
      "cell_type": "markdown",
      "source": [
        "The Tensor is created on stored on cuda device with **id : 0**"
      ]
    },
    {
      "metadata": {
        "id": "SUfxyWXXe3bY",
        "colab_type": "code",
        "colab": {
          "autoexec": {
            "startup": false,
            "wait_interval": 0
          },
          "base_uri": "https://localhost:8080/",
          "height": 34
        },
        "outputId": "31fed6be-d1f4-4266-fad1-2060a1ca55d8",
        "executionInfo": {
          "status": "ok",
          "timestamp": 1532875324552,
          "user_tz": -330,
          "elapsed": 1385,
          "user": {
            "displayName": "Divyam Srivastava",
            "photoUrl": "//lh3.googleusercontent.com/-WZcfnp5pNtk/AAAAAAAAAAI/AAAAAAAAAXo/yGhBvt-FNho/s50-c-k-no/photo.jpg",
            "userId": "112121959970026521392"
          }
        }
      },
      "cell_type": "code",
      "source": [
        "t.cuda.get_device_name(0)    # This proves our Tensors were indeed stored on a GPU . NVIDIA Tesla K80"
      ],
      "execution_count": 61,
      "outputs": [
        {
          "output_type": "execute_result",
          "data": {
            "text/plain": [
              "'Tesla K80'"
            ]
          },
          "metadata": {
            "tags": []
          },
          "execution_count": 61
        }
      ]
    },
    {
      "metadata": {
        "id": "HpZNySQPdUt4",
        "colab_type": "text"
      },
      "cell_type": "markdown",
      "source": [
        "## ** --------------------------------------------- THE END!! ---------------------------------------------** "
      ]
    }
  ]
}
